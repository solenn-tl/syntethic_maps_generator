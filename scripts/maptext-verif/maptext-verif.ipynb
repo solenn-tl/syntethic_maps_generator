{
 "cells": [
  {
   "cell_type": "code",
   "execution_count": 1,
   "metadata": {},
   "outputs": [],
   "source": [
    "#Import\n",
    "import psycopg2\n",
    "import re\n",
    "import pandas as pd"
   ]
  },
  {
   "cell_type": "code",
   "execution_count": 2,
   "metadata": {},
   "outputs": [],
   "source": [
    "#Connect to the database\n",
    "def connect():\n",
    "    return psycopg2.connect(\"dbname=cadastre_napoleonien_icdar24 user=annotator password=cadastre_annotator host=localhost port=5434\")\n",
    "\n",
    "IMG = \"FRAD094_3P_001078\""
   ]
  },
  {
   "cell_type": "code",
   "execution_count": 3,
   "metadata": {},
   "outputs": [
    {
     "data": {
      "text/plain": [
       "[('document_regions',), ('map_text',)]"
      ]
     },
     "execution_count": 3,
     "metadata": {},
     "output_type": "execute_result"
    }
   ],
   "source": [
    "#Get the list of tables of the schema with name = IMG\n",
    "def get_tables(conn, img):\n",
    "    cur = conn.cursor()\n",
    "    cur.execute(\"SELECT table_name FROM information_schema.tables WHERE table_schema = %s\", (img,))\n",
    "    tables = cur.fetchall()\n",
    "    cur.close()\n",
    "    return tables\n",
    "\n",
    "get_tables(connect(), IMG)"
   ]
  },
  {
   "cell_type": "code",
   "execution_count": 4,
   "metadata": {},
   "outputs": [],
   "source": [
    "#In table map_text of schema with name = IMG, get the rows that have column \"region_type\" = parcel number\n",
    "def get_parcel_numbers(conn, img):\n",
    "    cur = conn.cursor()\n",
    "    cur.execute(f'SELECT * FROM \"{img}\".\"map_text\"')\n",
    "    parcel_numbers = cur.fetchall()\n",
    "    cur.close()\n",
    "    return parcel_numbers"
   ]
  },
  {
   "cell_type": "code",
   "execution_count": 5,
   "metadata": {},
   "outputs": [],
   "source": [
    "_ = get_parcel_numbers(connect(), IMG)"
   ]
  },
  {
   "cell_type": "code",
   "execution_count": 6,
   "metadata": {},
   "outputs": [],
   "source": [
    "#Convert into a pd df\n",
    "import pandas as pd\n",
    "\n",
    "def get_parcel_numbers_df(conn, img):\n",
    "    return pd.DataFrame(get_parcel_numbers(conn, img))\n",
    "\n",
    "df = get_parcel_numbers_df(connect(), IMG)"
   ]
  },
  {
   "cell_type": "code",
   "execution_count": 7,
   "metadata": {},
   "outputs": [],
   "source": [
    "columns = [\"fid\",\"geom\",\"groupid\",\"wordid\",\"region_type\",\"transcription\",\"force_ignore_evaluation\",\"illegible\",\"truncated\",\"comment\",\"checked\"]\n",
    "df.columns = columns"
   ]
  },
  {
   "cell_type": "code",
   "execution_count": 8,
   "metadata": {},
   "outputs": [
    {
     "data": {
      "text/html": [
       "<div>\n",
       "<style scoped>\n",
       "    .dataframe tbody tr th:only-of-type {\n",
       "        vertical-align: middle;\n",
       "    }\n",
       "\n",
       "    .dataframe tbody tr th {\n",
       "        vertical-align: top;\n",
       "    }\n",
       "\n",
       "    .dataframe thead th {\n",
       "        text-align: right;\n",
       "    }\n",
       "</style>\n",
       "<table border=\"1\" class=\"dataframe\">\n",
       "  <thead>\n",
       "    <tr style=\"text-align: right;\">\n",
       "      <th></th>\n",
       "      <th>fid</th>\n",
       "      <th>geom</th>\n",
       "      <th>groupid</th>\n",
       "      <th>wordid</th>\n",
       "      <th>region_type</th>\n",
       "      <th>transcription</th>\n",
       "      <th>force_ignore_evaluation</th>\n",
       "      <th>illegible</th>\n",
       "      <th>truncated</th>\n",
       "      <th>comment</th>\n",
       "      <th>checked</th>\n",
       "    </tr>\n",
       "  </thead>\n",
       "  <tbody>\n",
       "    <tr>\n",
       "      <th>0</th>\n",
       "      <td>1</td>\n",
       "      <td>0103000020E6100000010000000900000091E07B667365...</td>\n",
       "      <td>1</td>\n",
       "      <td>1</td>\n",
       "      <td>non_toponym</td>\n",
       "      <td>L'hay</td>\n",
       "      <td>False</td>\n",
       "      <td>False</td>\n",
       "      <td>False</td>\n",
       "      <td>None</td>\n",
       "      <td>False</td>\n",
       "    </tr>\n",
       "    <tr>\n",
       "      <th>1</th>\n",
       "      <td>2</td>\n",
       "      <td>0103000020E6100000010000000B0000007586E93D8D37...</td>\n",
       "      <td>2</td>\n",
       "      <td>11</td>\n",
       "      <td>non_toponym</td>\n",
       "      <td>Section</td>\n",
       "      <td>False</td>\n",
       "      <td>False</td>\n",
       "      <td>False</td>\n",
       "      <td>None</td>\n",
       "      <td>False</td>\n",
       "    </tr>\n",
       "    <tr>\n",
       "      <th>2</th>\n",
       "      <td>3</td>\n",
       "      <td>0103000020E61000000100000005000000B85390CB9F76...</td>\n",
       "      <td>3</td>\n",
       "      <td>21</td>\n",
       "      <td>non_toponym</td>\n",
       "      <td>D</td>\n",
       "      <td>False</td>\n",
       "      <td>False</td>\n",
       "      <td>False</td>\n",
       "      <td>None</td>\n",
       "      <td>False</td>\n",
       "    </tr>\n",
       "    <tr>\n",
       "      <th>3</th>\n",
       "      <td>4</td>\n",
       "      <td>0103000020E610000001000000050000000234214775D7...</td>\n",
       "      <td>4</td>\n",
       "      <td>31</td>\n",
       "      <td>non_toponym</td>\n",
       "      <td>des</td>\n",
       "      <td>False</td>\n",
       "      <td>False</td>\n",
       "      <td>False</td>\n",
       "      <td>None</td>\n",
       "      <td>False</td>\n",
       "    </tr>\n",
       "    <tr>\n",
       "      <th>4</th>\n",
       "      <td>5</td>\n",
       "      <td>0103000020E61000000100000007000000A5713EDEBE28...</td>\n",
       "      <td>5</td>\n",
       "      <td>41</td>\n",
       "      <td>non_toponym</td>\n",
       "      <td>Roux</td>\n",
       "      <td>False</td>\n",
       "      <td>False</td>\n",
       "      <td>False</td>\n",
       "      <td>None</td>\n",
       "      <td>False</td>\n",
       "    </tr>\n",
       "    <tr>\n",
       "      <th>...</th>\n",
       "      <td>...</td>\n",
       "      <td>...</td>\n",
       "      <td>...</td>\n",
       "      <td>...</td>\n",
       "      <td>...</td>\n",
       "      <td>...</td>\n",
       "      <td>...</td>\n",
       "      <td>...</td>\n",
       "      <td>...</td>\n",
       "      <td>...</td>\n",
       "      <td>...</td>\n",
       "    </tr>\n",
       "    <tr>\n",
       "      <th>903</th>\n",
       "      <td>647</td>\n",
       "      <td>0103000020E610000001000000050000007DE519D9B14A...</td>\n",
       "      <td>593</td>\n",
       "      <td>6461</td>\n",
       "      <td>parcel_number</td>\n",
       "      <td>33</td>\n",
       "      <td>False</td>\n",
       "      <td>False</td>\n",
       "      <td>False</td>\n",
       "      <td>En réalité 533</td>\n",
       "      <td>False</td>\n",
       "    </tr>\n",
       "    <tr>\n",
       "      <th>904</th>\n",
       "      <td>681</td>\n",
       "      <td>0103000020E610000001000000050000002A4EE7FD1B27...</td>\n",
       "      <td>627</td>\n",
       "      <td>6801</td>\n",
       "      <td>parcel_number</td>\n",
       "      <td>68</td>\n",
       "      <td>False</td>\n",
       "      <td>False</td>\n",
       "      <td>False</td>\n",
       "      <td>En réalité 568</td>\n",
       "      <td>False</td>\n",
       "    </tr>\n",
       "    <tr>\n",
       "      <th>905</th>\n",
       "      <td>682</td>\n",
       "      <td>0103000020E61000000100000007000000D2DF949BC08E...</td>\n",
       "      <td>628</td>\n",
       "      <td>6811</td>\n",
       "      <td>parcel_number</td>\n",
       "      <td>69</td>\n",
       "      <td>False</td>\n",
       "      <td>False</td>\n",
       "      <td>False</td>\n",
       "      <td>En réalité 569</td>\n",
       "      <td>False</td>\n",
       "    </tr>\n",
       "    <tr>\n",
       "      <th>906</th>\n",
       "      <td>736</td>\n",
       "      <td>0103000020E61000000100000005000000A1575154F449...</td>\n",
       "      <td>682</td>\n",
       "      <td>7351</td>\n",
       "      <td>parcel_number</td>\n",
       "      <td>23</td>\n",
       "      <td>False</td>\n",
       "      <td>False</td>\n",
       "      <td>False</td>\n",
       "      <td>En réalité 623</td>\n",
       "      <td>False</td>\n",
       "    </tr>\n",
       "    <tr>\n",
       "      <th>907</th>\n",
       "      <td>737</td>\n",
       "      <td>0103000020E61000000100000005000000A70B7D43F86E...</td>\n",
       "      <td>683</td>\n",
       "      <td>7361</td>\n",
       "      <td>parcel_number</td>\n",
       "      <td>24</td>\n",
       "      <td>False</td>\n",
       "      <td>False</td>\n",
       "      <td>False</td>\n",
       "      <td>En réalité 624</td>\n",
       "      <td>False</td>\n",
       "    </tr>\n",
       "  </tbody>\n",
       "</table>\n",
       "<p>908 rows × 11 columns</p>\n",
       "</div>"
      ],
      "text/plain": [
       "     fid                                               geom  groupid  wordid  \\\n",
       "0      1  0103000020E6100000010000000900000091E07B667365...        1       1   \n",
       "1      2  0103000020E6100000010000000B0000007586E93D8D37...        2      11   \n",
       "2      3  0103000020E61000000100000005000000B85390CB9F76...        3      21   \n",
       "3      4  0103000020E610000001000000050000000234214775D7...        4      31   \n",
       "4      5  0103000020E61000000100000007000000A5713EDEBE28...        5      41   \n",
       "..   ...                                                ...      ...     ...   \n",
       "903  647  0103000020E610000001000000050000007DE519D9B14A...      593    6461   \n",
       "904  681  0103000020E610000001000000050000002A4EE7FD1B27...      627    6801   \n",
       "905  682  0103000020E61000000100000007000000D2DF949BC08E...      628    6811   \n",
       "906  736  0103000020E61000000100000005000000A1575154F449...      682    7351   \n",
       "907  737  0103000020E61000000100000005000000A70B7D43F86E...      683    7361   \n",
       "\n",
       "       region_type transcription  force_ignore_evaluation  illegible  \\\n",
       "0      non_toponym         L'hay                    False      False   \n",
       "1      non_toponym       Section                    False      False   \n",
       "2      non_toponym             D                    False      False   \n",
       "3      non_toponym           des                    False      False   \n",
       "4      non_toponym          Roux                    False      False   \n",
       "..             ...           ...                      ...        ...   \n",
       "903  parcel_number            33                    False      False   \n",
       "904  parcel_number            68                    False      False   \n",
       "905  parcel_number            69                    False      False   \n",
       "906  parcel_number            23                    False      False   \n",
       "907  parcel_number            24                    False      False   \n",
       "\n",
       "     truncated         comment  checked  \n",
       "0        False            None    False  \n",
       "1        False            None    False  \n",
       "2        False            None    False  \n",
       "3        False            None    False  \n",
       "4        False            None    False  \n",
       "..         ...             ...      ...  \n",
       "903      False  En réalité 533    False  \n",
       "904      False  En réalité 568    False  \n",
       "905      False  En réalité 569    False  \n",
       "906      False  En réalité 623    False  \n",
       "907      False  En réalité 624    False  \n",
       "\n",
       "[908 rows x 11 columns]"
      ]
     },
     "execution_count": 8,
     "metadata": {},
     "output_type": "execute_result"
    }
   ],
   "source": [
    "df"
   ]
  },
  {
   "cell_type": "markdown",
   "metadata": {},
   "source": [
    "## Check parcel numbers"
   ]
  },
  {
   "cell_type": "code",
   "execution_count": 9,
   "metadata": {},
   "outputs": [],
   "source": [
    "parcel_numbers = df[df[\"region_type\"] == \"parcel_number\"]"
   ]
  },
  {
   "cell_type": "code",
   "execution_count": 10,
   "metadata": {},
   "outputs": [
    {
     "data": {
      "text/plain": [
       "[]"
      ]
     },
     "execution_count": 10,
     "metadata": {},
     "output_type": "execute_result"
    }
   ],
   "source": [
    "#Parcel numbers features that have no numbers in the transcription (to search for misclassified objects)\n",
    "parcel_numbers_no_numbers = parcel_numbers[parcel_numbers[\"transcription\"].str.contains(r'\\d') == False]\n",
    "parcel_numbers_no_numbers[\"transcription\"].to_list()"
   ]
  },
  {
   "cell_type": "code",
   "execution_count": 11,
   "metadata": {},
   "outputs": [
    {
     "data": {
      "text/plain": [
       "['21^{bis}',\n",
       " '38^{bis}',\n",
       " '58.^{bis}',\n",
       " '131^{bis}',\n",
       " '203^{bis}',\n",
       " '392.^{bis}',\n",
       " '427^{bis}',\n",
       " '486^{bis}']"
      ]
     },
     "execution_count": 11,
     "metadata": {},
     "output_type": "execute_result"
    }
   ],
   "source": [
    "#Parcel numbers features that have both numbers and letters (to search for misclassified objects)\n",
    "parcel_numbers_numbers_and_letters = parcel_numbers[parcel_numbers[\"transcription\"].str.contains(r'[a-zA-Z]') & parcel_numbers[\"transcription\"].str.contains(r'\\d')]\n",
    "parcel_numbers_numbers_and_letters[\"transcription\"].to_list()"
   ]
  },
  {
   "cell_type": "code",
   "execution_count": 12,
   "metadata": {},
   "outputs": [
    {
     "name": "stdout",
     "output_type": "stream",
     "text": [
      "['10', '23', '24', '33', '39', '40', '48', '49', '56', '68', '69', '74', '75', '76', '82', '83', '86', '9', '98']\n"
     ]
    }
   ],
   "source": [
    "#Get the list of duplicated numbers\n",
    "def get_duplicated_parcel_numbers(parcel_numbers):\n",
    "    return parcel_numbers[parcel_numbers.duplicated(subset=[\"transcription\"])][\"transcription\"].unique()\n",
    "\n",
    "duplicated_parcel_numbers = get_duplicated_parcel_numbers(parcel_numbers)\n",
    "print(sorted(duplicated_parcel_numbers))"
   ]
  },
  {
   "cell_type": "code",
   "execution_count": 13,
   "metadata": {},
   "outputs": [
    {
     "data": {
      "text/plain": [
       "Index(['68', '69'], dtype='object', name='transcription')"
      ]
     },
     "execution_count": 13,
     "metadata": {},
     "output_type": "execute_result"
    }
   ],
   "source": [
    "#Get the list of numbers that are at least 3 times or more in the list\n",
    "def get_repeated_parcel_numbers(parcel_numbers):\n",
    "    return parcel_numbers[\"transcription\"].value_counts()[parcel_numbers[\"transcription\"].value_counts() >= 3].index\n",
    "\n",
    "repeated_parcel_numbers = get_repeated_parcel_numbers(parcel_numbers)\n",
    "repeated_parcel_numbers"
   ]
  },
  {
   "cell_type": "code",
   "execution_count": 14,
   "metadata": {},
   "outputs": [
    {
     "name": "stdout",
     "output_type": "stream",
     "text": [
      "Total Numbers in the table: 641\n",
      "Min Number: 1\n",
      "Max Number: 637\n",
      "ALERT! Something might be wrong (or not) with the numbers sequence.\n",
      "Missing numbers in the sequence: [139, 140, 168, 169, 186, 274, 275, 276, 282, 283, 298, 336, 352, 356, 448, 449, 502, 509, 510, 533, 552, 568, 569, 623, 624]\n",
      "Ranges of missing numbers: [(139, 140), (168, 169), 186, (274, 276), (282, 283), 298, 336, 352, 356, (448, 449), 502, (509, 510), 533, 552, (568, 569), (623, 624)]\n",
      "Help:\n",
      "- In case of large ranges of missing numbers, these numbers might be in an other map of the same section.\n",
      "- Small ranges or unique numbers missing or more suceptibles to effectively have been missed or miss-transcribed (but not always :) ).\n"
     ]
    },
    {
     "name": "stderr",
     "output_type": "stream",
     "text": [
      "C:\\Users\\stual\\AppData\\Local\\Temp\\ipykernel_19072\\8360852.py:2: SettingWithCopyWarning: \n",
      "A value is trying to be set on a copy of a slice from a DataFrame.\n",
      "Try using .loc[row_indexer,col_indexer] = value instead\n",
      "\n",
      "See the caveats in the documentation: https://pandas.pydata.org/pandas-docs/stable/user_guide/indexing.html#returning-a-view-versus-a-copy\n",
      "  parcel_numbers['cleaned'] = parcel_numbers['transcription'].apply(lambda x: int(''.join(re.findall(r'\\d+', x))) if re.findall(r'\\d+', x) else None)\n"
     ]
    }
   ],
   "source": [
    "# Step 1: Clean the column to retain only numerical characters\n",
    "parcel_numbers['cleaned'] = parcel_numbers['transcription'].apply(lambda x: int(''.join(re.findall(r'\\d+', x))) if re.findall(r'\\d+', x) else None)\n",
    "\n",
    "# Step 2: Drop any None values, convert to a list, and sort\n",
    "numbers_list = sorted(parcel_numbers['cleaned'].dropna().tolist())\n",
    "\n",
    "# Step 3: Identify missing numbers in the sequence\n",
    "if numbers_list:\n",
    "    full_range = range(numbers_list[0], numbers_list[-1] + 1)\n",
    "    missing_numbers = sorted(set(full_range) - set(numbers_list))\n",
    "else:\n",
    "    missing_numbers = []\n",
    "\n",
    "# Output results\n",
    "print(\"Total Numbers in the table:\", len(numbers_list))\n",
    "print(\"Min Number:\", numbers_list[0] if numbers_list else None)\n",
    "print(\"Max Number:\", numbers_list[-1] if numbers_list else None)\n",
    "if numbers_list[-1] > (numbers_list[-1]-numbers_list[0]):\n",
    "    print(\"ALERT! Something might be wrong (or not) with the numbers sequence.\")\n",
    "#print(\"Sorted Numbers List:\", numbers_list)\n",
    "print(\"Missing numbers in the sequence:\", missing_numbers)\n",
    "\n",
    "#Create ranges of missing numbers\n",
    "def find_ranges(numbers):\n",
    "    ranges = []\n",
    "    for number in numbers:\n",
    "        if not ranges or number != ranges[-1][-1] + 1:\n",
    "            ranges.append([])\n",
    "        ranges[-1].append(number)\n",
    "    #for each range, create anew list only with the min and max value\n",
    "    ranges = [range[0] if range[0] == range[-1] else (range[0], range[-1]) for range in ranges]\n",
    "    return ranges\n",
    "missing_ranges = find_ranges(missing_numbers)\n",
    "print(\"Ranges of missing numbers:\", missing_ranges)\n",
    "print(\"Help:\")\n",
    "print(\"- In case of large ranges of missing numbers, these numbers might be in an other map of the same section.\")\n",
    "print(\"- Small ranges or unique numbers missing or more suceptibles to effectively have been missed or miss-transcribed (but not always :) ).\")"
   ]
  }
 ],
 "metadata": {
  "kernelspec": {
   "display_name": ".venv",
   "language": "python",
   "name": "python3"
  },
  "language_info": {
   "codemirror_mode": {
    "name": "ipython",
    "version": 3
   },
   "file_extension": ".py",
   "mimetype": "text/x-python",
   "name": "python",
   "nbconvert_exporter": "python",
   "pygments_lexer": "ipython3",
   "version": "3.12.0"
  }
 },
 "nbformat": 4,
 "nbformat_minor": 2
}
